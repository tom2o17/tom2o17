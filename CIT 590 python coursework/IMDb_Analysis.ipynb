{
 "cells": [
  {
   "cell_type": "markdown",
   "metadata": {},
   "source": [
    "# IMDb Analysis"
   ]
  },
  {
   "cell_type": "markdown",
   "metadata": {},
   "source": [
    "#### In this assignment, you will work on movie data from IMDB.\n",
    "- The data includes movies and ratings from the IMDB website\n",
    "- Data File(s): imdb.xlsx\n",
    "\n",
    "#### Data file contains 3 sheets:\n",
    "- “imdb”: contains records of movies and ratings scraped from IMDB website\n",
    "- “countries”: contains the country (of origin) names\n",
    "- “directors”: contains the director names"
   ]
  },
  {
   "cell_type": "markdown",
   "metadata": {},
   "source": [
    "# Load, Inspect, & Query Movie & Ratings Data"
   ]
  },
  {
   "cell_type": "code",
   "execution_count": 218,
   "metadata": {},
   "outputs": [],
   "source": [
    "\"\"\" Q1: \n",
    "Load and read the 'imdb.xlsx' file. Read the 'imdb' sheet into a DataFrame, df.\n",
    "\"\"\"\n",
    "\n",
    "import pandas as pd\n",
    "\n",
    "# your code here\n",
    "\n",
    "xls = pd.ExcelFile('imdb.xlsx')\n",
    "\n",
    "df = xls.parse('imdb')\n"
   ]
  },
  {
   "cell_type": "code",
   "execution_count": 219,
   "metadata": {},
   "outputs": [
    {
     "name": "stdout",
     "output_type": "stream",
     "text": [
      "(178, 8)\n"
     ]
    }
   ],
   "source": [
    "\"\"\" Q2: \n",
    "Store the dimensions of the DataFrame as a tuple in a variable called 'shape' and print it.\n",
    "\n",
    "Hint: A tuple is made up of comma separated values inside parenthesis.  e.g. (1, 2)\n",
    "\"\"\"\n",
    "\n",
    "# your code here\n",
    "shape = df.shape\n",
    "print(shape)\n"
   ]
  },
  {
   "cell_type": "code",
   "execution_count": 220,
   "metadata": {},
   "outputs": [
    {
     "name": "stdout",
     "output_type": "stream",
     "text": [
      "Index(['movie_title', 'director_id', 'country_id', 'content_rating',\n",
      "       'title_year', 'imdb_score', 'gross', 'duration'],\n",
      "      dtype='object')\n",
      "movie_title        object\n",
      "director_id         int64\n",
      "country_id          int64\n",
      "content_rating     object\n",
      "title_year          int64\n",
      "imdb_score        float64\n",
      "gross               int64\n",
      "duration            int64\n",
      "dtype: object\n"
     ]
    }
   ],
   "source": [
    "\"\"\" Q3: \n",
    "Store the column titles and the types of data in variables named 'columns' and 'dtypes', then print them.\n",
    "\"\"\"\n",
    "\n",
    "# your code here\n",
    "columns = df.columns\n",
    "dtypes = df.dtypes\n",
    "\n",
    "print(columns)\n",
    "print(dtypes)\n",
    "\n"
   ]
  },
  {
   "cell_type": "code",
   "execution_count": 221,
   "metadata": {},
   "outputs": [
    {
     "name": "stdout",
     "output_type": "stream",
     "text": [
      "                                      movie_title  director_id  country_id  \\\n",
      "0                       The Shawshank RedemptionÊ           34           1   \n",
      "1                                  The GodfatherÊ           33           1   \n",
      "2                                The Dark KnightÊ           16           1   \n",
      "3                         The Godfather: Part IIÊ           33           1   \n",
      "4  The Lord of the Rings: The Return of the KingÊ           83           1   \n",
      "5                                   Pulp FictionÊ           85           1   \n",
      "6                 The Good, the Bad and the UglyÊ           98           2   \n",
      "7                               Schindler's ListÊ          103           1   \n",
      "8                                      InceptionÊ           16           1   \n",
      "9                                     Fight ClubÊ           22           1   \n",
      "\n",
      "  content_rating  title_year  imdb_score      gross  duration  \n",
      "0              R        1994         9.3   28341469       142  \n",
      "1              R        1972         9.2  134821952       175  \n",
      "2          PG-13        2008         9.0  533316061       152  \n",
      "3              R        1974         9.0   57300000       220  \n",
      "4          PG-13        2003         8.9  377019252       192  \n",
      "5              R        1994         8.9  107930000       178  \n",
      "6       Approved        1966         8.9    6100000       142  \n",
      "7              R        1993         8.9   96067179       185  \n",
      "8          PG-13        2010         8.8  292568851       148  \n",
      "9              R        1999         8.8   37023395       151  \n"
     ]
    }
   ],
   "source": [
    "\"\"\" Q4: \n",
    "Examine the first 10 rows of data; store them in a variable called first10\n",
    "\"\"\"\n",
    "\n",
    "# your code here\n",
    "\n",
    "first10 = df.head(10)\n",
    "print(first10)\n",
    "\n"
   ]
  },
  {
   "cell_type": "code",
   "execution_count": 222,
   "metadata": {},
   "outputs": [
    {
     "name": "stdout",
     "output_type": "stream",
     "text": [
      "                                      movie_title  director_id  country_id  \\\n",
      "0                       The Shawshank RedemptionÊ           34           1   \n",
      "1                                  The GodfatherÊ           33           1   \n",
      "2                                The Dark KnightÊ           16           1   \n",
      "3                         The Godfather: Part IIÊ           33           1   \n",
      "4  The Lord of the Rings: The Return of the KingÊ           83           1   \n",
      "\n",
      "  content_rating  title_year  imdb_score      gross  duration  \n",
      "0              R        1994         9.3   28341469       142  \n",
      "1              R        1972         9.2  134821952       175  \n",
      "2          PG-13        2008         9.0  533316061       152  \n",
      "3              R        1974         9.0   57300000       220  \n",
      "4          PG-13        2003         8.9  377019252       192  \n"
     ]
    }
   ],
   "source": [
    "\"\"\" Q5: \n",
    "Examine the first 5 rows of data; store them in a variable called first5\n",
    "\"\"\"\n",
    "\n",
    "# your code here\n",
    "\n",
    "# Storing the first 5 rows \n",
    "first5 = df.head(5)\n",
    "\n",
    "# Examining the first 5 rows \n",
    "print(first5)\n"
   ]
  },
  {
   "cell_type": "code",
   "execution_count": 223,
   "metadata": {},
   "outputs": [],
   "source": [
    "\"\"\" Q6: \n",
    "Import the \"directors\" and \"countries\" sheets into their own DataFrames, df_directors and df_countries.\n",
    "\"\"\"\n",
    "\n",
    "# your code here\n",
    "df_directors = xls.parse('directors')\n",
    "df_countries = xls.parse('countries')\n",
    "\n"
   ]
  },
  {
   "cell_type": "code",
   "execution_count": 224,
   "metadata": {},
   "outputs": [],
   "source": [
    "\"\"\" Q7: \n",
    "Check the \"directors\" sheet\n",
    "1. Count how many records there are based on the \"id\" column. (To get the number of records per \"id\", \n",
    "   use the value_counts method.) Store the result in a variable named count.\n",
    "2. Remove the duplicates from the directors dataframe and store the result in a variable called df_directors_clean.\n",
    "\"\"\"\n",
    "\n",
    "# your code here\n",
    "count = df_directors['id'].value_counts()\n",
    "\n",
    "\n",
    "df_directors_clean = df_directors.drop_duplicates()\n"
   ]
  },
  {
   "cell_type": "markdown",
   "metadata": {},
   "source": [
    "# Join & Filter Movie & Ratings Data"
   ]
  },
  {
   "cell_type": "code",
   "execution_count": 225,
   "metadata": {},
   "outputs": [
    {
     "data": {
      "text/plain": [
       "(178, 12)"
      ]
     },
     "execution_count": 225,
     "metadata": {},
     "output_type": "execute_result"
    }
   ],
   "source": [
    "\"\"\" Q1: \n",
    "Join three Dataframes: df, df_directors_clean, and df_countries with an inner join.\n",
    "Store the joined DataFrames in df.\n",
    "\"\"\"\n",
    "\n",
    "# your code here\n",
    "\n",
    "dfpre = pd.merge(left = df, right = df_countries, how = 'inner', left_on = 'country_id',\n",
    "                right_on = 'id')\n",
    "\n",
    "\n",
    "df = pd.merge(left = dfpre, right = df_directors_clean, how = 'inner', left_on = 'director_id', \n",
    "              right_on = 'id')\n",
    "\n",
    "# After the join, the resulting Dataframe should have 12 columns.\n",
    "df.shape"
   ]
  },
  {
   "cell_type": "code",
   "execution_count": 226,
   "metadata": {},
   "outputs": [
    {
     "name": "stdout",
     "output_type": "stream",
     "text": [
      "                 movie_title  director_id  country_id content_rating  \\\n",
      "0  The Shawshank RedemptionÊ           34           1              R   \n",
      "1            The Green MileÊ           34           1              R   \n",
      "2             The GodfatherÊ           33           1              R   \n",
      "3    The Godfather: Part IIÊ           33           1              R   \n",
      "4            Apocalypse NowÊ           33           1              R   \n",
      "5           The Dark KnightÊ           16           1          PG-13   \n",
      "6                 InceptionÊ           16           1          PG-13   \n",
      "7              InterstellarÊ           16           1          PG-13   \n",
      "8                   MementoÊ           16           1              R   \n",
      "9              The PrestigeÊ           16           1          PG-13   \n",
      "\n",
      "   title_year  imdb_score      gross  duration  id_x country  id_y  \\\n",
      "0        1994         9.3   28341469       142     1     USA    34   \n",
      "1        1999         8.5  136801374       189     1     USA    34   \n",
      "2        1972         9.2  134821952       175     1     USA    33   \n",
      "3        1974         9.0   57300000       220     1     USA    33   \n",
      "4        1979         8.5   78800000       289     1     USA    33   \n",
      "5        2008         9.0  533316061       152     1     USA    16   \n",
      "6        2010         8.8  292568851       148     1     USA    16   \n",
      "7        2014         8.6  187991439       169     1     USA    16   \n",
      "8        2000         8.5   25530884       113     1     USA    16   \n",
      "9        2006         8.5   53082743       130     1     USA    16   \n",
      "\n",
      "          director_name  \n",
      "0        Frank Darabont  \n",
      "1        Frank Darabont  \n",
      "2  Francis Ford Coppola  \n",
      "3  Francis Ford Coppola  \n",
      "4  Francis Ford Coppola  \n",
      "5     Christopher Nolan  \n",
      "6     Christopher Nolan  \n",
      "7     Christopher Nolan  \n",
      "8     Christopher Nolan  \n",
      "9     Christopher Nolan  \n"
     ]
    }
   ],
   "source": [
    "\"\"\" Q2: \n",
    "Save the first ten rows of movie titles in a variable called first10, then print it\n",
    "\"\"\"\n",
    "\n",
    "# your code here\n",
    "first10 = df.head(10)\n",
    "print(first10)\n"
   ]
  },
  {
   "cell_type": "code",
   "execution_count": 227,
   "metadata": {},
   "outputs": [
    {
     "data": {
      "text/html": [
       "<div>\n",
       "<style scoped>\n",
       "    .dataframe tbody tr th:only-of-type {\n",
       "        vertical-align: middle;\n",
       "    }\n",
       "\n",
       "    .dataframe tbody tr th {\n",
       "        vertical-align: top;\n",
       "    }\n",
       "\n",
       "    .dataframe thead th {\n",
       "        text-align: right;\n",
       "    }\n",
       "</style>\n",
       "<table border=\"1\" class=\"dataframe\">\n",
       "  <thead>\n",
       "    <tr style=\"text-align: right;\">\n",
       "      <th></th>\n",
       "      <th>movie_title</th>\n",
       "      <th>director_id</th>\n",
       "      <th>country_id</th>\n",
       "      <th>content_rating</th>\n",
       "      <th>title_year</th>\n",
       "      <th>imdb_score</th>\n",
       "      <th>gross</th>\n",
       "      <th>duration</th>\n",
       "      <th>id_x</th>\n",
       "      <th>country</th>\n",
       "      <th>id_y</th>\n",
       "      <th>director_name</th>\n",
       "    </tr>\n",
       "  </thead>\n",
       "  <tbody>\n",
       "    <tr>\n",
       "      <th>0</th>\n",
       "      <td>The Shawshank Redemption</td>\n",
       "      <td>34</td>\n",
       "      <td>1</td>\n",
       "      <td>R</td>\n",
       "      <td>1994</td>\n",
       "      <td>9.3</td>\n",
       "      <td>28341469</td>\n",
       "      <td>142</td>\n",
       "      <td>1</td>\n",
       "      <td>USA</td>\n",
       "      <td>34</td>\n",
       "      <td>Frank Darabont</td>\n",
       "    </tr>\n",
       "    <tr>\n",
       "      <th>1</th>\n",
       "      <td>The Green Mile</td>\n",
       "      <td>34</td>\n",
       "      <td>1</td>\n",
       "      <td>R</td>\n",
       "      <td>1999</td>\n",
       "      <td>8.5</td>\n",
       "      <td>136801374</td>\n",
       "      <td>189</td>\n",
       "      <td>1</td>\n",
       "      <td>USA</td>\n",
       "      <td>34</td>\n",
       "      <td>Frank Darabont</td>\n",
       "    </tr>\n",
       "    <tr>\n",
       "      <th>2</th>\n",
       "      <td>The Godfather</td>\n",
       "      <td>33</td>\n",
       "      <td>1</td>\n",
       "      <td>R</td>\n",
       "      <td>1972</td>\n",
       "      <td>9.2</td>\n",
       "      <td>134821952</td>\n",
       "      <td>175</td>\n",
       "      <td>1</td>\n",
       "      <td>USA</td>\n",
       "      <td>33</td>\n",
       "      <td>Francis Ford Coppola</td>\n",
       "    </tr>\n",
       "    <tr>\n",
       "      <th>3</th>\n",
       "      <td>The Godfather: Part II</td>\n",
       "      <td>33</td>\n",
       "      <td>1</td>\n",
       "      <td>R</td>\n",
       "      <td>1974</td>\n",
       "      <td>9.0</td>\n",
       "      <td>57300000</td>\n",
       "      <td>220</td>\n",
       "      <td>1</td>\n",
       "      <td>USA</td>\n",
       "      <td>33</td>\n",
       "      <td>Francis Ford Coppola</td>\n",
       "    </tr>\n",
       "    <tr>\n",
       "      <th>4</th>\n",
       "      <td>Apocalypse Now</td>\n",
       "      <td>33</td>\n",
       "      <td>1</td>\n",
       "      <td>R</td>\n",
       "      <td>1979</td>\n",
       "      <td>8.5</td>\n",
       "      <td>78800000</td>\n",
       "      <td>289</td>\n",
       "      <td>1</td>\n",
       "      <td>USA</td>\n",
       "      <td>33</td>\n",
       "      <td>Francis Ford Coppola</td>\n",
       "    </tr>\n",
       "    <tr>\n",
       "      <th>5</th>\n",
       "      <td>The Dark Knight</td>\n",
       "      <td>16</td>\n",
       "      <td>1</td>\n",
       "      <td>PG-13</td>\n",
       "      <td>2008</td>\n",
       "      <td>9.0</td>\n",
       "      <td>533316061</td>\n",
       "      <td>152</td>\n",
       "      <td>1</td>\n",
       "      <td>USA</td>\n",
       "      <td>16</td>\n",
       "      <td>Christopher Nolan</td>\n",
       "    </tr>\n",
       "    <tr>\n",
       "      <th>6</th>\n",
       "      <td>Inception</td>\n",
       "      <td>16</td>\n",
       "      <td>1</td>\n",
       "      <td>PG-13</td>\n",
       "      <td>2010</td>\n",
       "      <td>8.8</td>\n",
       "      <td>292568851</td>\n",
       "      <td>148</td>\n",
       "      <td>1</td>\n",
       "      <td>USA</td>\n",
       "      <td>16</td>\n",
       "      <td>Christopher Nolan</td>\n",
       "    </tr>\n",
       "    <tr>\n",
       "      <th>7</th>\n",
       "      <td>Interstellar</td>\n",
       "      <td>16</td>\n",
       "      <td>1</td>\n",
       "      <td>PG-13</td>\n",
       "      <td>2014</td>\n",
       "      <td>8.6</td>\n",
       "      <td>187991439</td>\n",
       "      <td>169</td>\n",
       "      <td>1</td>\n",
       "      <td>USA</td>\n",
       "      <td>16</td>\n",
       "      <td>Christopher Nolan</td>\n",
       "    </tr>\n",
       "    <tr>\n",
       "      <th>8</th>\n",
       "      <td>Memento</td>\n",
       "      <td>16</td>\n",
       "      <td>1</td>\n",
       "      <td>R</td>\n",
       "      <td>2000</td>\n",
       "      <td>8.5</td>\n",
       "      <td>25530884</td>\n",
       "      <td>113</td>\n",
       "      <td>1</td>\n",
       "      <td>USA</td>\n",
       "      <td>16</td>\n",
       "      <td>Christopher Nolan</td>\n",
       "    </tr>\n",
       "    <tr>\n",
       "      <th>9</th>\n",
       "      <td>The Prestige</td>\n",
       "      <td>16</td>\n",
       "      <td>1</td>\n",
       "      <td>PG-13</td>\n",
       "      <td>2006</td>\n",
       "      <td>8.5</td>\n",
       "      <td>53082743</td>\n",
       "      <td>130</td>\n",
       "      <td>1</td>\n",
       "      <td>USA</td>\n",
       "      <td>16</td>\n",
       "      <td>Christopher Nolan</td>\n",
       "    </tr>\n",
       "  </tbody>\n",
       "</table>\n",
       "</div>"
      ],
      "text/plain": [
       "                movie_title  director_id  country_id content_rating  \\\n",
       "0  The Shawshank Redemption           34           1              R   \n",
       "1            The Green Mile           34           1              R   \n",
       "2             The Godfather           33           1              R   \n",
       "3    The Godfather: Part II           33           1              R   \n",
       "4            Apocalypse Now           33           1              R   \n",
       "5           The Dark Knight           16           1          PG-13   \n",
       "6                 Inception           16           1          PG-13   \n",
       "7              Interstellar           16           1          PG-13   \n",
       "8                   Memento           16           1              R   \n",
       "9              The Prestige           16           1          PG-13   \n",
       "\n",
       "   title_year  imdb_score      gross  duration  id_x country  id_y  \\\n",
       "0        1994         9.3   28341469       142     1     USA    34   \n",
       "1        1999         8.5  136801374       189     1     USA    34   \n",
       "2        1972         9.2  134821952       175     1     USA    33   \n",
       "3        1974         9.0   57300000       220     1     USA    33   \n",
       "4        1979         8.5   78800000       289     1     USA    33   \n",
       "5        2008         9.0  533316061       152     1     USA    16   \n",
       "6        2010         8.8  292568851       148     1     USA    16   \n",
       "7        2014         8.6  187991439       169     1     USA    16   \n",
       "8        2000         8.5   25530884       113     1     USA    16   \n",
       "9        2006         8.5   53082743       130     1     USA    16   \n",
       "\n",
       "          director_name  \n",
       "0        Frank Darabont  \n",
       "1        Frank Darabont  \n",
       "2  Francis Ford Coppola  \n",
       "3  Francis Ford Coppola  \n",
       "4  Francis Ford Coppola  \n",
       "5     Christopher Nolan  \n",
       "6     Christopher Nolan  \n",
       "7     Christopher Nolan  \n",
       "8     Christopher Nolan  \n",
       "9     Christopher Nolan  "
      ]
     },
     "execution_count": 227,
     "metadata": {},
     "output_type": "execute_result"
    }
   ],
   "source": [
    "\"\"\" Q3: \n",
    "There's an extra character at the end of each movie title. \n",
    "Remove it from the data using str.replace.\n",
    "And print the first ten rows of movie titles again. \n",
    "\"\"\"\n",
    "\n",
    "# your code here\n",
    "\n",
    "x = df['movie_title'].str.replace('Ê','')\n",
    "df['movie_title'] = x\n",
    "df.head(10)"
   ]
  },
  {
   "cell_type": "code",
   "execution_count": 229,
   "metadata": {},
   "outputs": [
    {
     "name": "stdout",
     "output_type": "stream",
     "text": [
      "Christopher Nolan\n"
     ]
    }
   ],
   "source": [
    "\"\"\" Q4:\n",
    "Who is the director with the most movies? First get the number of movies per \"director_name\", then \n",
    "extract the direct with the highest count and save in a variable called \"director_with_most\".\n",
    "\"\"\"\n",
    "# your code here\n",
    "values = df['director_name'].unique()\n",
    "\n",
    "results = []\n",
    "\n",
    "for i in values:\n",
    "    y = df['director_name'] == i \n",
    "    x = sum(y)\n",
    "    z = (x, i)\n",
    "    results.append(z)\n",
    "\n",
    "most = max(results)\n",
    "director_with_most = most[1]\n",
    "print(director_with_most)\n",
    "\n"
   ]
  },
  {
   "cell_type": "code",
   "execution_count": 230,
   "metadata": {},
   "outputs": [
    {
     "name": "stdout",
     "output_type": "stream",
     "text": [
      "              movie_title content_rating  imdb_score\n",
      "5         The Dark Knight          PG-13         9.0\n",
      "6               Inception          PG-13         8.8\n",
      "7            Interstellar          PG-13         8.6\n",
      "8                 Memento              R         8.5\n",
      "9            The Prestige          PG-13         8.5\n",
      "10  The Dark Knight Rises          PG-13         8.5\n",
      "11          Batman Begins          PG-13         8.3\n"
     ]
    }
   ],
   "source": [
    "\"\"\"Q5:\n",
    "Save all of this director's movies and their ratings in a variable called all_movies_ratings, then print this variable.\n",
    "(The director with the most movies you got from the last question.)\n",
    "\"\"\"\n",
    "\n",
    "# your code here\n",
    "\n",
    "index = df['director_name'] == director_with_most\n",
    "\n",
    "all_movie = df[index]\n",
    "all_movie_ratings = all_movie[['movie_title', 'content_rating','imdb_score']]\n",
    "print(all_movie_ratings)\n",
    "\n"
   ]
  },
  {
   "cell_type": "code",
   "execution_count": 231,
   "metadata": {},
   "outputs": [
    {
     "name": "stdout",
     "output_type": "stream",
     "text": [
      "movie_title         The Pianist\n",
      "director_name    Roman Polanski\n",
      "imdb_score                  8.5\n",
      "Name: 158, dtype: object\n"
     ]
    }
   ],
   "source": [
    "\"\"\"Q6:\n",
    "Recommend a **random** movie that has a rating of over 8.3. \n",
    "What is the title and imdb_score of your recommendation?\n",
    "\n",
    "Name your variables as follows:\n",
    "-----------------------------------------------------------------------------\n",
    "  goodmovie       <- Those movies with a rating over 8.3\n",
    "  rand_int        <- The random integer index location of your recommendation\n",
    "  rand_goodmovie  <- The random recommendation\n",
    "\"\"\"\n",
    "\n",
    "# Do not modify this part, it's needed for grading\n",
    "import random\n",
    "random.seed(0)\n",
    "# your code here\n",
    "\n",
    "\n",
    "all_movies = df[['movie_title', 'director_name', 'imdb_score']]\n",
    "\n",
    "index = all_movies['imdb_score'] > 8.3\n",
    "good_movies = all_movies[index]\n",
    "\n",
    "rand_int = random.randint(0, len(good_movies))\n",
    "#print(rand_int)\n",
    "rand_goodmovie = good_movies.iloc[rand_int,]\n",
    "\n",
    "print(rand_goodmovie)\n",
    "\n",
    "\n"
   ]
  },
  {
   "cell_type": "markdown",
   "metadata": {},
   "source": [
    "# Summarize Movie & Ratings Data"
   ]
  },
  {
   "cell_type": "code",
   "execution_count": 232,
   "metadata": {},
   "outputs": [
    {
     "name": "stdout",
     "output_type": "stream",
     "text": [
      "       imdb_score         gross\n",
      "count  178.000000  1.780000e+02\n",
      "mean     8.294382  1.030402e+08\n",
      "std      0.266960  1.242549e+08\n",
      "min      8.000000  8.060000e+03\n",
      "25%      8.100000  1.318510e+07\n",
      "50%      8.200000  5.194371e+07\n",
      "75%      8.475000  1.522436e+08\n",
      "max      9.300000  6.232795e+08\n"
     ]
    }
   ],
   "source": [
    "\"\"\" Q1: \n",
    "Get the summary statistics for imdb_score and gross, then use the describe() function to summarize this visually. Save the\n",
    "result in a variable called score_gross_description and print it.\n",
    "\"\"\"\n",
    "# your code here\n",
    "\n",
    "score_gross_description = df[['imdb_score','gross']].describe()\n",
    "print(score_gross_description)\n"
   ]
  },
  {
   "cell_type": "code",
   "execution_count": 233,
   "metadata": {},
   "outputs": [
    {
     "name": "stdout",
     "output_type": "stream",
     "text": [
      "8.6\n"
     ]
    }
   ],
   "source": [
    "\"\"\"Q2:\n",
    "What is the average rating of the director Christopher Nolan's movies? Save this value in a variable called nolan_mean and \n",
    "print.\n",
    "\"\"\"\n",
    "\n",
    "# your code here\n",
    "\n",
    "index = df['director_name'] == 'Christopher Nolan'\n",
    "nolan = df[index]\n",
    "nolan_mean = sum(nolan['imdb_score'])/len(nolan)\n",
    "print(nolan_mean)\n",
    "\n"
   ]
  },
  {
   "cell_type": "code",
   "execution_count": 234,
   "metadata": {},
   "outputs": [
    {
     "name": "stdout",
     "output_type": "stream",
     "text": [
      "<class 'pandas.core.series.Series'>\n",
      "8.48\n"
     ]
    }
   ],
   "source": [
    "\"\"\"Q3: \n",
    "Create a series called 'directors' that contains each director's name and his or her average rating.  Print out the type of your variable.\n",
    "Use the 'directors' series to find the average rating for Steven Spielberg.  Print the value.\n",
    "\"\"\"\n",
    "\n",
    "# your code here\n",
    "\n",
    "group = df.groupby('director_name')\n",
    "directors = group['imdb_score'].mean()\n",
    "print(type(directors))\n",
    "\n",
    "print(directors['Steven Spielberg'])\n"
   ]
  },
  {
   "cell_type": "code",
   "execution_count": 235,
   "metadata": {},
   "outputs": [
    {
     "name": "stdout",
     "output_type": "stream",
     "text": [
      "<class 'pandas.core.series.Series'>\n",
      "134    2001\n",
      "135    1997\n",
      "136    2004\n",
      "Name: title_year, dtype: int64\n"
     ]
    }
   ],
   "source": [
    "\"\"\"Q4:\n",
    "Select the non-USA (country_id=1) movies and movies made after 1960 by Hayao Miyazaki (director_id=46).\n",
    "What are the years returned? Save them in a series called 'miyazaki', then print it.\n",
    "\"\"\"\n",
    "\n",
    "# your code here\n",
    "non_us_index = df['country_id'] != 1\n",
    "non_us = df[non_us_index]\n",
    "after_1960_index = non_us['title_year'] >= 1960\n",
    "non_us_after_1960 = non_us[after_1960_index]\n",
    "miyazaki_index = non_us_after_1960['director_name'] == 'Hayao Miyazaki'\n",
    "miyazaki_df = non_us_after_1960[miyazaki_index]\n",
    "miyazaki = miyazaki_df['title_year']\n",
    "print(type(miyazaki))\n",
    "print(miyazaki)\n",
    "\n",
    "\n",
    "\n"
   ]
  },
  {
   "cell_type": "code",
   "execution_count": 236,
   "metadata": {},
   "outputs": [
    {
     "name": "stdout",
     "output_type": "stream",
     "text": [
      "                                      median\n",
      "                                  imdb_score\n",
      "country      director_name                  \n",
      "Argentina    Juan Jose Campanella       8.20\n",
      "Australia    George Miller              8.10\n",
      "Brazil       Fernando Meirelles         8.70\n",
      "             Jose Padilha               8.10\n",
      "Canada       Denis Villeneuve           8.20\n",
      "...                                      ...\n",
      "USA          Tony Scott                 8.00\n",
      "             Victor Fleming             8.15\n",
      "             Wes Anderson               8.10\n",
      "             Woody Allen                8.10\n",
      "West Germany Wolfgang Petersen          8.40\n",
      "\n",
      "[125 rows x 1 columns]\n"
     ]
    }
   ],
   "source": [
    "\"\"\"Q5: \n",
    "Create a Pivot Table that shows the median rating for each director, grouped by their respective countries. Name your variable\n",
    "'pivot_agg'\n",
    "\"\"\"\n",
    "import numpy as np\n",
    "# your code here\n",
    "pivot_agg = pd.pivot_table(df,index = ['country', 'director_name'],\n",
    "                          values = ['imdb_score'],\n",
    "                          aggfunc = [np.median])\n",
    "print(pivot_agg)\n"
   ]
  },
  {
   "cell_type": "code",
   "execution_count": 237,
   "metadata": {},
   "outputs": [
    {
     "name": "stdout",
     "output_type": "stream",
     "text": [
      "51    171\n",
      "Name: duration, dtype: int64\n"
     ]
    }
   ],
   "source": [
    "\"\"\"Q6:\n",
    "How long did the movie Gladiator aim to keep your attention? Save the series with this information\n",
    "in a variable called 'gladiator_duration', then print it.\n",
    "\"\"\"\n",
    "\n",
    "# your code here\n",
    "\n",
    "gladiator_df = df[df['movie_title'] == 'Gladiator']\n",
    "gladiator = gladiator_df['duration']\n",
    "print(gladiator)"
   ]
  }
 ],
 "metadata": {
  "kernelspec": {
   "display_name": "Python 3",
   "language": "python",
   "name": "python3"
  },
  "language_info": {
   "codemirror_mode": {
    "name": "ipython",
    "version": 3
   },
   "file_extension": ".py",
   "mimetype": "text/x-python",
   "name": "python",
   "nbconvert_exporter": "python",
   "pygments_lexer": "ipython3",
   "version": "3.8.5"
  }
 },
 "nbformat": 4,
 "nbformat_minor": 4
}
